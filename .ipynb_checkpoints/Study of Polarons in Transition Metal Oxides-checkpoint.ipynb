{
 "cells": [
  {
   "cell_type": "code",
   "execution_count": 1,
   "id": "4beac761",
   "metadata": {},
   "outputs": [],
   "source": [
    "#For generation of polarons\n",
    "from pymatgen.core import Structure\n",
    "from pymatgen.io.vasp.sets import MPStaticSet\n",
    "import math\n",
    "import numpy as np\n",
    "import pandas as pd\n",
    "\n",
    "#For studying electronic property - DOS once polarons are introduced in the system\n",
    "from pymatgen.electronic_structure.plotter import DosPlotter\n",
    "from pymatgen.io.vasp.outputs import Vasprun\n",
    "import matplotlib.pyplot as plt\n",
    "from pymatgen.core import Structure\n",
    "import glob"
   ]
  },
  {
   "cell_type": "markdown",
   "id": "86f77d7f",
   "metadata": {},
   "source": [
    "## Polaron Formation"
   ]
  },
  {
   "cell_type": "code",
   "execution_count": 9,
   "id": "canadian-preview",
   "metadata": {},
   "outputs": [],
   "source": [
    "def round_up(n, decimals=0):\n",
    "    multiplier = 10 ** decimals\n",
    "    return math.ceil(n * multiplier) / multiplier\n",
    "\n",
    "def neighbouring_atoms(s: Structure, elem: str, site: int, neighbouring_site_no: int):\n",
    "    \"\"\"\n",
    "    This function gives the neighbouring atoms surrounding the site of interest by\n",
    "    considering the geometry around that atom. \n",
    "    This is required to get access to the sites that need to be altered to introduce a \n",
    "    polaron at that site\n",
    "    \"\"\"\n",
    "    atoms= []\n",
    "    atoms_surrounding_site = np.array(s.distance_matrix[site])\n",
    "    atoms_surrounding_site.sort()\n",
    "    cutoff = round_up(atoms_surrounding_site[neighbouring_site_no], 2) \n",
    "    #it gets the length value for the 6th largest bond made by that site for octahedra. \n",
    "    if s.sites[site].specie.name == elem:\n",
    "        for j in range(neighbouring_site_no):\n",
    "            atoms.append(s.get_all_neighbors(cutoff)[site][j].index)\n",
    "    return atoms    "
   ]
  },
  {
   "cell_type": "code",
   "execution_count": 10,
   "id": "british-calvin",
   "metadata": {},
   "outputs": [],
   "source": [
    "def avg_bl(s: Structure, elem: str, neighbouring_site_no: int):\n",
    "    \"\"\"\n",
    "    This function gives the average bond length around all the atoms present in the structure\n",
    "    in the form of a dataframe.\n",
    "    It can be used to compare the increase or decrease in the bond length once the polaron has\n",
    "    been introduced. \n",
    "    It can also be used to compare the pristine structure with the structure containing the polaron.\n",
    "    \"\"\"\n",
    "    site_specie = \"\"\n",
    "    errr = \"\"\n",
    "    df = pd.DataFrame(columns=['Site','Average Bond Length','Error(if any)'])\n",
    "    for i in range(len(s)):\n",
    "        atoms_surrounding_site = np.array(s.distance_matrix[i])\n",
    "        atoms_surrounding_site.sort()\n",
    "        cutoff = round_up(atoms_surrounding_site[neighbouring_site_no], 2) \n",
    "        #it gets the length value for the nth largest bond made by that site for the geometry it has. \n",
    "        summ = 0\n",
    "        site_specie = s.sites[i].specie\n",
    "        if site_specie.name == elem:\n",
    "            atoms = []\n",
    "            for j in range(neighbouring_site_no):\n",
    "                summ += s.get_distance(i,s.get_all_neighbors(cutoff)[i][j].index)\n",
    "                atoms.append(s.get_all_neighbors(cutoff)[i][j].index)\n",
    "            average = summ/neighbouring_site_no\n",
    "            data = {'Site': int(i),'Average Bond Length': average}\n",
    "            df = df.append(data,ignore_index=True)\n",
    "            for i in atoms:\n",
    "                if i < 96:\n",
    "                    errr = \"V-V distance taken instead of V-O\"\n",
    "                    df.at[i, 'Error(if any)'] = errr\n",
    "    return df"
   ]
  },
  {
   "cell_type": "code",
   "execution_count": 4,
   "id": "deadly-basic",
   "metadata": {},
   "outputs": [],
   "source": [
    "def increase_decrease_calculation(df,position: int):\n",
    "    \"\"\"\n",
    "    It is a very basic function to calculate the percentage increase or decrease in the bond length \n",
    "    once the polaron was introduced at the site of interest.\n",
    "    It simply compares the average bond length at the site of interest with that of next atom,\n",
    "    considering the polaron was introduced at a non-equivalent site with following atoms falling\n",
    "    into the same group of atoms. \n",
    "    \n",
    "    This function needs improvment so as to make it more general. \n",
    "    \"\"\"\n",
    "    df.to_dict()\n",
    "    df2 = df['Average Bond Length']\n",
    "    l1 = df2[position]\n",
    "    l2 = df2[position+1]\n",
    "    inc_dec = ((l1-l2)/l2)*100\n",
    "    return inc_dec"
   ]
  },
  {
   "cell_type": "code",
   "execution_count": 11,
   "id": "adapted-spirit",
   "metadata": {},
   "outputs": [],
   "source": [
    "def polaron_introduction(s: Structure, site: int, bl_inc_dec: int, neighbouring_site_no: int):\n",
    "    \"\"\"\n",
    "    In order to actually introduce distortion in the environment around the site of interest with an \n",
    "    aim to introduce polaron around that site, this function needs the structure, site, the per cent change\n",
    "    expected around the site and its geometry. If it is octahedral, the neighbouring_site_no = 6, and so on.\n",
    "    Note: Electron polaron requires an increase in the bond length around the site of interest, whereas\n",
    "    a Hole polaron would require a decrease. \n",
    "    \"\"\"\n",
    "    strain = 1+(bl_inc_dec/100)\n",
    "    elem = s.sites[site].specie.name\n",
    "    neighbours = neighbouring_atoms(s,elem,site,neighbouring_site_no)\n",
    "    new_site = 0\n",
    "    old_site = 0\n",
    "    \n",
    "    for i in neighbours:\n",
    "        new_site = ((s[i].frac_coords-s[site].frac_coords)*strain)+s[site].frac_coords\n",
    "        old_site = s[i].frac_coords\n",
    "        for j in range(len(new_site)):\n",
    "            if new_site[j]>1:\n",
    "                new_site[j] = (((old_site[j]-1)*strain)+1)\n",
    "        s[i].frac_coords = new_site\n",
    "    return s"
   ]
  },
  {
   "cell_type": "code",
   "execution_count": 12,
   "id": "rocky-isolation",
   "metadata": {},
   "outputs": [],
   "source": [
    "def polaron_along_one_direction(s: Structure, site1: int, site2: int, bl_inc_dec: int):\n",
    "    \"\"\"\n",
    "    In order to study the movement of polaron from one site to another along one direction, the path\n",
    "    needs to be changed only along one bond. This function needs the site of interest as site1 and \n",
    "    the moving atom's site as site2. \n",
    "    \"\"\"\n",
    "    strain = 1+(bl_inc_dec/100)\n",
    "    new_site = 0\n",
    "    old_site = 0\n",
    "\n",
    "    new_site = ((s[site2].frac_coords-s[site1].frac_coords)*strain)+s[site1].frac_coords\n",
    "    old_site = s[site2].frac_coords\n",
    "    for j in range(len(new_site)):\n",
    "        if new_site[j]>1:\n",
    "            new_site[j] = (((old_site[j]-1)*strain)+1)\n",
    "    s[site2].frac_coords = new_site\n",
    "    return s"
   ]
  },
  {
   "cell_type": "code",
   "execution_count": 13,
   "id": "enabling-large",
   "metadata": {},
   "outputs": [],
   "source": [
    "def common_atoms(s: Structure, site1: int, site2: int, neighbouring_site_no: int):\n",
    "    \"\"\"\n",
    "    This function finds the shared ligands (atoms) between site1 and site2 depending on their geometry. \n",
    "    Note: This function is valid only for those site which share same geometry. \n",
    "    An update is needed to compare sites with different geometries. \n",
    "    \"\"\"\n",
    "    atoms1 = []\n",
    "    atoms2 = []\n",
    "    common_atom_count = 0\n",
    "    common_atoms = []\n",
    "\n",
    "    atoms_surrounding_site = np.array(s.distance_matrix[site1])\n",
    "    atoms_surrounding_site.sort()\n",
    "    cutoff = round_up(atoms_surrounding_site[neighbouring_site_no], 2)\n",
    "    for i in range(neighbouring_site_no):\n",
    "        atoms1.append(s.get_all_neighbors(cutoff)[site1][i].index)\n",
    "\n",
    "    atoms_surrounding_site2 = np.array(s.distance_matrix[site2])\n",
    "    atoms_surrounding_site2.sort()\n",
    "    cutoff2 = round_up(atoms_surrounding_site2[neighbouring_site_no], 2)\n",
    "    for j in range(6): #Because octahedral geometry\n",
    "        atoms2.append(s.get_all_neighbors(cutoff2)[site2][j].index)\n",
    "        \n",
    "    for i in atoms1:\n",
    "        for j in atoms2:\n",
    "            if i ==j:\n",
    "                common_atom_count += 1\n",
    "                common_atoms.append(i)\n",
    "                \n",
    "    if common_atom_count == 0:\n",
    "        message = \"No common O atoms\"\n",
    "        return message\n",
    "    else:\n",
    "        return common_atoms"
   ]
  },
  {
   "cell_type": "markdown",
   "id": "8f231665",
   "metadata": {},
   "source": [
    "## Studying the Electronic property of system containing polaron - DOS"
   ]
  },
  {
   "cell_type": "code",
   "execution_count": 8,
   "id": "15d63a59",
   "metadata": {},
   "outputs": [],
   "source": [
    "def DOS_from_vasprun(vasprun_file_path):\n",
    "    vasp = Vasprun(vasprun_file_path)\n",
    "    dos = vasp.complete_dos\n",
    "    dosplot = DosPlotter(zero_at_efermi=True,sigma=0.05)\n",
    "    dosplot.add_dos(\"Total DOS\", dos)\n",
    "    dosplot.add_dos_dict(dos.get_element_dos())\n",
    "    eg = vasp.eigenvalue_band_properties[0]\n",
    "    return dosplot, eg, vasp.efermi\n",
    "\n",
    "def DOSPlot(dosplot_object, range_x_min, range_x_max, range_y_min, range_y_max, eg, fermi_level = None,\n",
    "            to_label = False, title_to_give = None):\n",
    "    if not fermi_level:\n",
    "        dosplot_object.efermi = fermi_level\n",
    "        \n",
    "    plt = dosplot_object.get_plot(xlim=[range_x_min,range_x_max])\n",
    "    plt.ylim([range_y_min,range_y_max])\n",
    "    plt.legend(fontsize =22)\n",
    "    \n",
    "    if to_label == True:\n",
    "        plt.xlabel(\"E-$E_f$\")\n",
    "        plt.title(title_to_give, fontdict={'fontsize':22})\n",
    "        \n",
    "        eg_text = \"$E_g$ = \" + str(round(eg,2)) + \" eV\"\n",
    "        plt.text((range_x_min+1),(range_y_max-40),eg_text,fontdict={'fontsize':22})\n",
    "    \n",
    "    return plt"
   ]
  },
  {
   "cell_type": "markdown",
   "id": "cef76f4e",
   "metadata": {},
   "source": [
    "# Test"
   ]
  },
  {
   "cell_type": "code",
   "execution_count": 15,
   "id": "923476e6",
   "metadata": {},
   "outputs": [
    {
     "name": "stderr",
     "output_type": "stream",
     "text": [
      "Could not connect to https://contribs-api.materialsproject.org (HTTPSConnectionPool(host='contribs-api.materialsproject.org', port=443): Read timed out. (read timeout=2))! Waiting 30s ...\n",
      "/Users/jasleenkaur/miniconda3/envs/mavrl/lib/python3.9/site-packages/mp_api/client/mprester.py:147: builtins.UserWarning: Problem loading MPContribs client: [<twisted.python.failure.Failure OpenSSL.SSL.Error: [('STORE routines', '', 'unregistered scheme'), ('system library', '', ''), ('STORE routines', '', 'unregistered scheme'), ('system library', '', ''), ('STORE routines', '', 'unregistered scheme'), ('system library', '', ''), ('SSL routines', '', 'certificate verify failed')]>]\n"
     ]
    }
   ],
   "source": [
    "from mp_api.client import MPRester\n",
    "mpr = MPRester(\"7VXKreAlpBXfyRpGgFCtl0kWjI4krBCI\")"
   ]
  },
  {
   "cell_type": "code",
   "execution_count": 19,
   "id": "8eaa6689",
   "metadata": {},
   "outputs": [
    {
     "data": {
      "application/json": {
       "ascii": false,
       "bar_format": null,
       "colour": null,
       "elapsed": 0.04808211326599121,
       "initial": 0,
       "n": 0,
       "ncols": null,
       "nrows": 61,
       "postfix": null,
       "prefix": "Retrieving MaterialsDoc documents",
       "rate": null,
       "total": 1,
       "unit": "it",
       "unit_divisor": 1000,
       "unit_scale": false
      },
      "application/vnd.jupyter.widget-view+json": {
       "model_id": "2095ec7a6d754a2b9017a786ba653797",
       "version_major": 2,
       "version_minor": 0
      },
      "text/plain": [
       "Retrieving MaterialsDoc documents:   0%|          | 0/1 [00:00<?, ?it/s]"
      ]
     },
     "metadata": {},
     "output_type": "display_data"
    }
   ],
   "source": [
    "s_v3o5 = mpr.get_structure_by_material_id('mp-622497')\n",
    "s_v3o5"
   ]
  },
  {
   "cell_type": "code",
   "execution_count": 18,
   "id": "85f50ab6",
   "metadata": {},
   "outputs": [],
   "source": [
    "s_v3o5_e_polaron = polaron_introduction(s_v3o5,0,5,6)\n",
    "s_v3o5_e_polaron"
   ]
  },
  {
   "cell_type": "code",
   "execution_count": 20,
   "id": "f7399eb9",
   "metadata": {},
   "outputs": [
    {
     "data": {
      "text/plain": [
       "Structure Summary\n",
       "Lattice\n",
       "    abc : 5.189325 7.106747246466558 9.989550266019437\n",
       " angles : 109.17001771534312 90.0 90.0\n",
       " volume : 347.9780606004661\n",
       "      A : 5.189325 0.0 0.0\n",
       "      B : 0.0 6.707614 -2.348142\n",
       "      C : 0.0 0.02156 9.989527\n",
       "    pbc : True True True\n",
       "PeriodicSite: V (2.6129, 6.1139, 4.1348) [0.5035, 0.9095, 0.6277]\n",
       "PeriodicSite: V (2.5819, 2.7650, 5.3354) [0.4975, 0.4102, 0.6305]\n",
       "PeriodicSite: V (2.5819, 0.6104, 3.4801) [0.4975, 0.0898, 0.3695]\n",
       "PeriodicSite: V (2.6129, 3.9691, 2.3325) [0.5035, 0.5905, 0.3723]\n",
       "PeriodicSite: V (5.1747, 3.9851, 7.3203) [0.9972, 0.5913, 0.8718]\n",
       "PeriodicSite: V (5.1747, 6.0979, -0.8530) [0.9972, 0.9087, 0.1282]\n",
       "PeriodicSite: V (0.0052, 2.7479, 0.3491) [0.0010, 0.4092, 0.1311]\n",
       "PeriodicSite: V (0.0052, 0.6275, 8.4664) [0.0010, 0.0908, 0.8689]\n",
       "PeriodicSite: V (5.1782, 6.7080, 2.6380) [0.9978, 0.9985, 0.4988]\n",
       "PeriodicSite: V (5.1782, 3.3750, 3.8293) [0.9978, 0.5015, 0.5012]\n",
       "PeriodicSite: V (2.6106, 6.7199, 7.6326) [0.5031, 0.9986, 0.9988]\n",
       "PeriodicSite: V (2.6106, 3.3631, -1.1653) [0.5031, 0.5014, 0.0012]\n",
       "PeriodicSite: O (3.4278, 3.5321, 0.6236) [0.6605, 0.5260, 0.1861]\n",
       "PeriodicSite: O (1.8442, 0.2313, 1.9064) [0.3554, 0.0338, 0.1988]\n",
       "PeriodicSite: O (1.8442, 3.1441, 6.9091) [0.3554, 0.4662, 0.8012]\n",
       "PeriodicSite: O (3.4278, 6.5509, 5.8437) [0.6605, 0.9740, 0.8139]\n",
       "PeriodicSite: O (0.7873, 5.8307, 7.1641) [0.1517, 0.8663, 0.9208]\n",
       "PeriodicSite: O (4.4090, 0.9456, 0.4573) [0.8496, 0.1407, 0.0789]\n",
       "PeriodicSite: O (4.4090, 2.4298, 8.3582) [0.8496, 0.3593, 0.9211]\n",
       "PeriodicSite: O (0.7873, 4.2523, -0.6968) [0.1517, 0.6337, 0.0792]\n",
       "PeriodicSite: O (4.3597, 3.5273, 5.6261) [0.8401, 0.5237, 0.6863]\n",
       "PeriodicSite: O (4.3597, 6.5556, 0.8412) [0.8401, 0.9763, 0.3137]\n",
       "PeriodicSite: O (0.7406, 0.2563, 6.8932) [0.1427, 0.0360, 0.6985]\n",
       "PeriodicSite: O (0.7406, 3.1191, 1.9223) [0.1427, 0.4640, 0.3015]\n",
       "PeriodicSite: O (1.5360, 1.6769, -0.5870) [0.2960, 0.2500, 0.0000]\n",
       "PeriodicSite: O (3.5748, 5.0307, -1.7611) [0.6889, 0.7500, 0.0000]\n",
       "PeriodicSite: O (3.3715, 2.4214, 3.3640) [0.6497, 0.3596, 0.4213]\n",
       "PeriodicSite: O (1.8110, 5.8040, 2.1676) [0.3490, 0.8639, 0.4201]\n",
       "PeriodicSite: O (1.8110, 4.2790, 4.2997) [0.3490, 0.6361, 0.5799]\n",
       "PeriodicSite: O (3.3715, 0.9540, 5.4515) [0.6497, 0.1404, 0.5787]\n",
       "PeriodicSite: O (1.0587, 1.6877, 4.4077) [0.2040, 0.2500, 0.5000]\n",
       "PeriodicSite: O (4.2199, 5.0415, 3.2337) [0.8132, 0.7500, 0.5000]"
      ]
     },
     "execution_count": 20,
     "metadata": {},
     "output_type": "execute_result"
    }
   ],
   "source": []
  },
  {
   "cell_type": "code",
   "execution_count": 21,
   "id": "0869f928",
   "metadata": {},
   "outputs": [
    {
     "data": {
      "text/plain": [
       "Structure Summary\n",
       "Lattice\n",
       "    abc : 5.189325 7.106747246466558 9.989550266019437\n",
       " angles : 109.17001771534312 90.0 90.0\n",
       " volume : 347.9780606004661\n",
       "      A : 5.189325 0.0 0.0\n",
       "      B : 0.0 6.707614 -2.348142\n",
       "      C : 0.0 0.02156 9.989527\n",
       "    pbc : True True True\n",
       "PeriodicSite: V (2.6129, 6.1139, 4.1348) [0.5035, 0.9095, 0.6277]\n",
       "PeriodicSite: V (2.5819, 2.7650, 5.3354) [0.4975, 0.4102, 0.6305]\n",
       "PeriodicSite: V (2.5819, 0.6104, 3.4801) [0.4975, 0.0898, 0.3695]\n",
       "PeriodicSite: V (2.6129, 3.9691, 2.3325) [0.5035, 0.5905, 0.3723]\n",
       "PeriodicSite: V (5.1747, 3.9851, 7.3203) [0.9972, 0.5913, 0.8718]\n",
       "PeriodicSite: V (5.1747, 6.0979, -0.8530) [0.9972, 0.9087, 0.1282]\n",
       "PeriodicSite: V (0.0052, 2.7479, 0.3491) [0.0010, 0.4092, 0.1311]\n",
       "PeriodicSite: V (0.0052, 0.6275, 8.4664) [0.0010, 0.0908, 0.8689]\n",
       "PeriodicSite: V (5.1782, 6.7080, 2.6380) [0.9978, 0.9985, 0.4988]\n",
       "PeriodicSite: V (5.1782, 3.3750, 3.8293) [0.9978, 0.5015, 0.5012]\n",
       "PeriodicSite: V (2.6106, 6.7199, 7.6326) [0.5031, 0.9986, 0.9988]\n",
       "PeriodicSite: V (2.6106, 3.3631, -1.1653) [0.5031, 0.5014, 0.0012]\n",
       "PeriodicSite: O (3.4278, 3.5321, 0.6236) [0.6605, 0.5260, 0.1861]\n",
       "PeriodicSite: O (1.8442, 0.2313, 1.9064) [0.3554, 0.0338, 0.1988]\n",
       "PeriodicSite: O (1.8442, 3.1441, 6.9091) [0.3554, 0.4662, 0.8012]\n",
       "PeriodicSite: O (3.4685, 6.5727, 5.9292) [0.6684, 0.9772, 0.8232]\n",
       "PeriodicSite: O (0.7873, 5.8307, 7.1641) [0.1517, 0.8663, 0.9208]\n",
       "PeriodicSite: O (4.4090, 0.9456, 0.4573) [0.8496, 0.1407, 0.0789]\n",
       "PeriodicSite: O (4.4090, 2.4298, 8.3582) [0.8496, 0.3593, 0.9211]\n",
       "PeriodicSite: O (0.7873, 4.2523, -0.6968) [0.1517, 0.6337, 0.0792]\n",
       "PeriodicSite: O (4.3597, 3.5273, 5.6261) [0.8401, 0.5237, 0.6863]\n",
       "PeriodicSite: O (4.3597, 6.5556, 0.8412) [0.8401, 0.9763, 0.3137]\n",
       "PeriodicSite: O (0.6470, -0.0366, 7.0311) [0.1247, -0.0077, 0.7020]\n",
       "PeriodicSite: O (0.7406, 3.1191, 1.9223) [0.1427, 0.4640, 0.3015]\n",
       "PeriodicSite: O (1.5360, 1.6769, -0.5870) [0.2960, 0.2500, 0.0000]\n",
       "PeriodicSite: O (3.5748, 5.0307, -1.7611) [0.6889, 0.7500, 0.0000]\n",
       "PeriodicSite: O (3.3715, 2.4214, 3.3640) [0.6497, 0.3596, 0.4213]\n",
       "PeriodicSite: O (1.7709, 5.7885, 2.0692) [0.3413, 0.8617, 0.4097]\n",
       "PeriodicSite: O (1.7709, 4.1873, 4.3080) [0.3413, 0.6224, 0.5776]\n",
       "PeriodicSite: O (3.4094, 0.6960, 5.5173) [0.6570, 0.1019, 0.5763]\n",
       "PeriodicSite: O (1.0587, 1.6877, 4.4077) [0.2040, 0.2500, 0.5000]\n",
       "PeriodicSite: O (4.3003, 4.9879, 3.1886) [0.8287, 0.7420, 0.4936]"
      ]
     },
     "execution_count": 21,
     "metadata": {},
     "output_type": "execute_result"
    }
   ],
   "source": []
  },
  {
   "cell_type": "code",
   "execution_count": 22,
   "id": "42cc263d",
   "metadata": {},
   "outputs": [
    {
     "data": {
      "text/plain": [
       "False"
      ]
     },
     "execution_count": 22,
     "metadata": {},
     "output_type": "execute_result"
    }
   ],
   "source": [
    "s_v3o5 == s_v3o5_e_polaron"
   ]
  },
  {
   "cell_type": "code",
   "execution_count": 24,
   "id": "0e836d5c",
   "metadata": {},
   "outputs": [
    {
     "data": {
      "text/plain": [
       "[28, 27, 22, 31, 15, 29]"
      ]
     },
     "execution_count": 24,
     "metadata": {},
     "output_type": "execute_result"
    }
   ],
   "source": [
    "neighbours = neighbouring_atoms(s_v3o5,\"V\",0,6)\n",
    "neighbours"
   ]
  },
  {
   "cell_type": "code",
   "execution_count": null,
   "id": "e55f3455",
   "metadata": {},
   "outputs": [],
   "source": []
  }
 ],
 "metadata": {
  "kernelspec": {
   "display_name": "Python 3 (ipykernel)",
   "language": "python",
   "name": "python3"
  },
  "language_info": {
   "codemirror_mode": {
    "name": "ipython",
    "version": 3
   },
   "file_extension": ".py",
   "mimetype": "text/x-python",
   "name": "python",
   "nbconvert_exporter": "python",
   "pygments_lexer": "ipython3",
   "version": "3.9.13"
  }
 },
 "nbformat": 4,
 "nbformat_minor": 5
}
